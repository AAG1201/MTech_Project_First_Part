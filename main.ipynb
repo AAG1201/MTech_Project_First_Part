{
 "cells": [
  {
   "cell_type": "code",
   "execution_count": null,
   "id": "6291f84e",
   "metadata": {},
   "outputs": [
    {
     "name": "stdout",
     "output_type": "stream",
     "text": [
      "Directory already exists: output_sound/fs_16000_threshold_0.10\n",
      "Loading audio: 237-134500-0011.wav\n",
      "Generating clipped signal \n",
      "\n",
      "Clipping threshold 0.100, true SDR: 3.39 dB, Clipped samples: 26.64%, Time: 1sec\n",
      "Processing:   0%|                                | 0/131 [00:00<?, ?iteration/s]/data/AAG/MTech_Project_First_Part/spade_segmentation.py:113: ComplexWarning: Casting complex values to real discards the imaginary part\n",
      "  data_rec_fin[idx] = data_rec_fin[idx] + data_rec_block * gsyn\n",
      "Processing: 100%|██████████████████████| 131/131 [00:05<00:00, 23.64iteration/s]\n",
      "Created directory: output_sound/fs_16000_threshold_0.10/audios\n",
      "Results saved to output_sound/fs_16000_threshold_0.10/results_1s.xlsx\n"
     ]
    }
   ],
   "source": [
    "win_len = 500\n",
    "win_shift = int(win_len / 4)\n",
    "\n",
    "!python process.py --audio_dir custom_sound \\\n",
    "    --output_path output_sound \\\n",
    "    --time_clip 1 \\\n",
    "    --target_fs_values 16000 \\\n",
    "    --clipping_thresholds 0.1 \\\n",
    "    --dynamic 0 \\\n",
    "    --saving 0 \\\n",
    "    --plotting 0 \\\n",
    "    --delta 0 \\\n",
    "    --win_len {win_len} \\\n",
    "    --win_shift {win_shift}"
   ]
  },
  {
   "cell_type": "code",
   "execution_count": null,
   "id": "6a9f414c",
   "metadata": {},
   "outputs": [],
   "source": [
    "# nohup python run_in_bg.py > output_log.txt 2>&1 &\n",
    "# find /data2/AAG/MTech_Project_Second_Part/speech_data -type f -name \"*.wav\" | shuf -n 100 | xargs -I {} cp {} /data2/AAG/MTech_Project_First_Part/custom_sound/"
   ]
  },
  {
   "cell_type": "markdown",
   "id": "5665c0e6",
   "metadata": {},
   "source": [
    "# Variation study"
   ]
  },
  {
   "cell_type": "code",
   "execution_count": null,
   "id": "69ecced2",
   "metadata": {},
   "outputs": [],
   "source": [
    "# nohup python variation_study.py > study_log.txt 2>&1 &"
   ]
  }
 ],
 "metadata": {
  "kernelspec": {
   "display_name": "aagproj",
   "language": "python",
   "name": "python3"
  },
  "language_info": {
   "codemirror_mode": {
    "name": "ipython",
    "version": 3
   },
   "file_extension": ".py",
   "mimetype": "text/x-python",
   "name": "python",
   "nbconvert_exporter": "python",
   "pygments_lexer": "ipython3",
   "version": "3.9.22"
  }
 },
 "nbformat": 4,
 "nbformat_minor": 5
}
