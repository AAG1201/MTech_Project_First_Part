{
 "cells": [
  {
   "cell_type": "code",
   "execution_count": null,
   "id": "6291f84e",
   "metadata": {},
   "outputs": [],
   "source": [
    "win_len = 125\n",
    "win_shift = int(win_len / 4)\n",
    "\n",
    "!python process.py --audio_dir custom_sound \\\n",
    "    --output_path output_sound \\\n",
    "    --time_clip 1 \\\n",
    "    --target_fs_values 16000 \\\n",
    "    --clipping_thresholds 0.3 \\\n",
    "    --dynamic 1 \\\n",
    "    --saving 0 \\\n",
    "    --plotting 0 \\\n",
    "    --delta 300 \\\n",
    "    --win_len {win_len} \\\n",
    "    --win_shift {win_shift}"
   ]
  },
  {
   "cell_type": "code",
   "execution_count": null,
   "id": "6a9f414c",
   "metadata": {},
   "outputs": [],
   "source": [
    "# nohup python run_in_bg.py > output_log.txt 2>&1 &\n",
    "# find /data2/AAG/MTech_Project_Second_Part/speech_data -type f -name \"*.wav\" | shuf -n 100 | xargs -I {} cp {} /data2/AAG/MTech_Project_First_Part/custom_sound/"
   ]
  },
  {
   "cell_type": "code",
   "execution_count": null,
   "id": "94c67662",
   "metadata": {},
   "outputs": [
    {
     "name": "stdout",
     "output_type": "stream",
     "text": [
      "Directory already exists: output_sound/fs_16000_threshold_0.10\n",
      "Loading audio: 237-134493-0011.wav\n",
      "Generating clipped signal \n",
      "\n",
      "Clipping threshold 0.100, true SDR: 3.33 dB, Clipped samples: 27.96%, Time: 1sec\n"
     ]
    },
    {
     "name": "stderr",
     "output_type": "stream",
     "text": [
      "Processing:   0%|          | 0/521 [00:00<?, ?iteration/s]/data2/AAG/MTech_Project_First_Part/spade_segmentation.py:111: ComplexWarning: Casting complex values to real discards the imaginary part\n",
      "  data_rec_fin[idx] = data_rec_fin[idx] + data_rec_block * gsyn\n",
      "Processing: 100%|██████████| 521/521 [00:07<00:00, 70.98iteration/s] \n"
     ]
    },
    {
     "name": "stdout",
     "output_type": "stream",
     "text": [
      "Loading audio: 61-70970-0003.wav\n",
      "Generating clipped signal \n",
      "\n",
      "Clipping threshold 0.100, true SDR: 2.94 dB, Clipped samples: 28.08%, Time: 1sec\n"
     ]
    },
    {
     "name": "stderr",
     "output_type": "stream",
     "text": [
      "Processing: 100%|██████████| 521/521 [00:08<00:00, 59.58iteration/s]\n"
     ]
    },
    {
     "name": "stdout",
     "output_type": "stream",
     "text": [
      "Loading audio: 1089-134686-0020.wav\n",
      "Generating clipped signal \n",
      "\n",
      "Clipping threshold 0.100, true SDR: 2.95 dB, Clipped samples: 23.89%, Time: 1sec\n"
     ]
    },
    {
     "name": "stderr",
     "output_type": "stream",
     "text": [
      "Processing: 100%|██████████| 521/521 [00:05<00:00, 93.46iteration/s] \n"
     ]
    },
    {
     "name": "stdout",
     "output_type": "stream",
     "text": [
      "Loading audio: 2300-131720-0024.wav\n",
      "Generating clipped signal \n",
      "\n",
      "Clipping threshold 0.100, true SDR: 3.33 dB, Clipped samples: 21.44%, Time: 1sec\n"
     ]
    },
    {
     "name": "stderr",
     "output_type": "stream",
     "text": [
      "Processing: 100%|██████████| 521/521 [00:06<00:00, 80.01iteration/s] \n"
     ]
    },
    {
     "name": "stdout",
     "output_type": "stream",
     "text": [
      "Loading audio: 4446-2275-0045.wav\n",
      "Generating clipped signal \n",
      "\n",
      "Clipping threshold 0.100, true SDR: 3.05 dB, Clipped samples: 20.71%, Time: 1sec\n"
     ]
    },
    {
     "name": "stderr",
     "output_type": "stream",
     "text": [
      "Processing: 100%|██████████| 521/521 [00:08<00:00, 63.17iteration/s]\n"
     ]
    },
    {
     "name": "stdout",
     "output_type": "stream",
     "text": [
      "Results saved to output_sound/fs_16000_threshold_0.10/results_1s.xlsx\n",
      "Directory already exists: output_sound/fs_16000_threshold_0.20\n",
      "Loading audio: 237-134493-0011.wav\n",
      "Generating clipped signal \n",
      "\n",
      "Clipping threshold 0.200, true SDR: 6.89 dB, Clipped samples: 15.02%, Time: 1sec\n"
     ]
    },
    {
     "name": "stderr",
     "output_type": "stream",
     "text": [
      "Processing:   0%|          | 0/521 [00:00<?, ?iteration/s]/data2/AAG/MTech_Project_First_Part/spade_segmentation.py:111: ComplexWarning: Casting complex values to real discards the imaginary part\n",
      "  data_rec_fin[idx] = data_rec_fin[idx] + data_rec_block * gsyn\n",
      "Processing: 100%|██████████| 521/521 [00:08<00:00, 58.28iteration/s] \n"
     ]
    },
    {
     "name": "stdout",
     "output_type": "stream",
     "text": [
      "Loading audio: 61-70970-0003.wav\n",
      "Generating clipped signal \n",
      "\n",
      "Clipping threshold 0.200, true SDR: 5.92 dB, Clipped samples: 14.43%, Time: 1sec\n"
     ]
    },
    {
     "name": "stderr",
     "output_type": "stream",
     "text": [
      "Processing: 100%|██████████| 521/521 [00:10<00:00, 48.56iteration/s]\n"
     ]
    },
    {
     "name": "stdout",
     "output_type": "stream",
     "text": [
      "Loading audio: 1089-134686-0020.wav\n",
      "Generating clipped signal \n",
      "\n",
      "Clipping threshold 0.200, true SDR: 5.76 dB, Clipped samples: 11.13%, Time: 1sec\n"
     ]
    },
    {
     "name": "stderr",
     "output_type": "stream",
     "text": [
      "Processing: 100%|██████████| 521/521 [00:07<00:00, 70.38iteration/s] \n"
     ]
    },
    {
     "name": "stdout",
     "output_type": "stream",
     "text": [
      "Loading audio: 2300-131720-0024.wav\n",
      "Generating clipped signal \n",
      "\n",
      "Clipping threshold 0.200, true SDR: 6.69 dB, Clipped samples: 9.96%, Time: 1sec\n"
     ]
    },
    {
     "name": "stderr",
     "output_type": "stream",
     "text": [
      "Processing: 100%|██████████| 521/521 [00:08<00:00, 63.76iteration/s] \n"
     ]
    },
    {
     "name": "stdout",
     "output_type": "stream",
     "text": [
      "Loading audio: 4446-2275-0045.wav\n",
      "Generating clipped signal \n",
      "\n",
      "Clipping threshold 0.200, true SDR: 6.11 dB, Clipped samples: 10.62%, Time: 1sec\n"
     ]
    },
    {
     "name": "stderr",
     "output_type": "stream",
     "text": [
      "Processing: 100%|██████████| 521/521 [00:09<00:00, 53.54iteration/s]\n"
     ]
    },
    {
     "name": "stdout",
     "output_type": "stream",
     "text": [
      "Results saved to output_sound/fs_16000_threshold_0.20/results_1s.xlsx\n",
      "Directory already exists: output_sound/fs_16000_threshold_0.30\n",
      "Loading audio: 237-134493-0011.wav\n",
      "Generating clipped signal \n",
      "\n",
      "Clipping threshold 0.300, true SDR: 10.50 dB, Clipped samples: 6.71%, Time: 1sec\n"
     ]
    },
    {
     "name": "stderr",
     "output_type": "stream",
     "text": [
      "Processing:   0%|          | 0/521 [00:00<?, ?iteration/s]/data2/AAG/MTech_Project_First_Part/spade_segmentation.py:111: ComplexWarning: Casting complex values to real discards the imaginary part\n",
      "  data_rec_fin[idx] = data_rec_fin[idx] + data_rec_block * gsyn\n",
      "Processing: 100%|██████████| 521/521 [00:09<00:00, 56.29iteration/s] \n"
     ]
    },
    {
     "name": "stdout",
     "output_type": "stream",
     "text": [
      "Loading audio: 61-70970-0003.wav\n",
      "Generating clipped signal \n",
      "\n",
      "Clipping threshold 0.300, true SDR: 9.07 dB, Clipped samples: 7.72%, Time: 1sec\n"
     ]
    },
    {
     "name": "stderr",
     "output_type": "stream",
     "text": [
      "Processing: 100%|██████████| 521/521 [00:10<00:00, 49.03iteration/s]\n"
     ]
    },
    {
     "name": "stdout",
     "output_type": "stream",
     "text": [
      "Loading audio: 1089-134686-0020.wav\n",
      "Generating clipped signal \n",
      "\n",
      "Clipping threshold 0.300, true SDR: 8.55 dB, Clipped samples: 5.40%, Time: 1sec\n"
     ]
    },
    {
     "name": "stderr",
     "output_type": "stream",
     "text": [
      "Processing: 100%|██████████| 521/521 [00:07<00:00, 70.29iteration/s] \n"
     ]
    },
    {
     "name": "stdout",
     "output_type": "stream",
     "text": [
      "Loading audio: 2300-131720-0024.wav\n",
      "Generating clipped signal \n",
      "\n",
      "Clipping threshold 0.300, true SDR: 10.11 dB, Clipped samples: 5.12%, Time: 1sec\n"
     ]
    },
    {
     "name": "stderr",
     "output_type": "stream",
     "text": [
      "Processing: 100%|██████████| 521/521 [00:08<00:00, 64.86iteration/s] \n"
     ]
    },
    {
     "name": "stdout",
     "output_type": "stream",
     "text": [
      "Loading audio: 4446-2275-0045.wav\n",
      "Generating clipped signal \n",
      "\n",
      "Clipping threshold 0.300, true SDR: 9.14 dB, Clipped samples: 5.04%, Time: 1sec\n"
     ]
    },
    {
     "name": "stderr",
     "output_type": "stream",
     "text": [
      "Processing: 100%|██████████| 521/521 [00:09<00:00, 55.72iteration/s]\n"
     ]
    },
    {
     "name": "stdout",
     "output_type": "stream",
     "text": [
      "Results saved to output_sound/fs_16000_threshold_0.30/results_1s.xlsx\n",
      "Directory already exists: output_sound/fs_16000_threshold_0.10\n",
      "Loading audio: 237-134493-0011.wav\n",
      "Generating clipped signal \n",
      "\n",
      "Clipping threshold 0.100, true SDR: 3.33 dB, Clipped samples: 27.96%, Time: 1sec\n"
     ]
    },
    {
     "name": "stderr",
     "output_type": "stream",
     "text": [
      "Processing:   0%|          | 0/263 [00:00<?, ?iteration/s]/data2/AAG/MTech_Project_First_Part/spade_segmentation.py:111: ComplexWarning: Casting complex values to real discards the imaginary part\n",
      "  data_rec_fin[idx] = data_rec_fin[idx] + data_rec_block * gsyn\n",
      "Processing: 100%|██████████| 263/263 [00:08<00:00, 29.27iteration/s]\n"
     ]
    },
    {
     "name": "stdout",
     "output_type": "stream",
     "text": [
      "Loading audio: 61-70970-0003.wav\n",
      "Generating clipped signal \n",
      "\n",
      "Clipping threshold 0.100, true SDR: 2.94 dB, Clipped samples: 28.08%, Time: 1sec\n"
     ]
    },
    {
     "name": "stderr",
     "output_type": "stream",
     "text": [
      "Processing: 100%|██████████| 263/263 [00:09<00:00, 27.23iteration/s]\n"
     ]
    },
    {
     "name": "stdout",
     "output_type": "stream",
     "text": [
      "Loading audio: 1089-134686-0020.wav\n",
      "Generating clipped signal \n",
      "\n",
      "Clipping threshold 0.100, true SDR: 2.95 dB, Clipped samples: 23.89%, Time: 1sec\n"
     ]
    },
    {
     "name": "stderr",
     "output_type": "stream",
     "text": [
      "Processing: 100%|██████████| 263/263 [00:07<00:00, 36.71iteration/s]\n"
     ]
    },
    {
     "name": "stdout",
     "output_type": "stream",
     "text": [
      "Loading audio: 2300-131720-0024.wav\n",
      "Generating clipped signal \n",
      "\n",
      "Clipping threshold 0.100, true SDR: 3.33 dB, Clipped samples: 21.44%, Time: 1sec\n"
     ]
    },
    {
     "name": "stderr",
     "output_type": "stream",
     "text": [
      "Processing: 100%|██████████| 263/263 [00:06<00:00, 39.52iteration/s]\n"
     ]
    },
    {
     "name": "stdout",
     "output_type": "stream",
     "text": [
      "Loading audio: 4446-2275-0045.wav\n",
      "Generating clipped signal \n",
      "\n",
      "Clipping threshold 0.100, true SDR: 3.05 dB, Clipped samples: 20.71%, Time: 1sec\n"
     ]
    },
    {
     "name": "stderr",
     "output_type": "stream",
     "text": [
      "Processing: 100%|██████████| 263/263 [00:10<00:00, 25.57iteration/s]\n"
     ]
    },
    {
     "name": "stdout",
     "output_type": "stream",
     "text": [
      "Results saved to output_sound/fs_16000_threshold_0.10/results_1s.xlsx\n",
      "Directory already exists: output_sound/fs_16000_threshold_0.20\n",
      "Loading audio: 237-134493-0011.wav\n",
      "Generating clipped signal \n",
      "\n",
      "Clipping threshold 0.200, true SDR: 6.89 dB, Clipped samples: 15.02%, Time: 1sec\n"
     ]
    },
    {
     "name": "stderr",
     "output_type": "stream",
     "text": [
      "Processing:   0%|          | 0/263 [00:00<?, ?iteration/s]/data2/AAG/MTech_Project_First_Part/spade_segmentation.py:111: ComplexWarning: Casting complex values to real discards the imaginary part\n",
      "  data_rec_fin[idx] = data_rec_fin[idx] + data_rec_block * gsyn\n",
      "Processing: 100%|██████████| 263/263 [00:10<00:00, 26.09iteration/s]\n"
     ]
    },
    {
     "name": "stdout",
     "output_type": "stream",
     "text": [
      "Loading audio: 61-70970-0003.wav\n",
      "Generating clipped signal \n",
      "\n",
      "Clipping threshold 0.200, true SDR: 5.92 dB, Clipped samples: 14.43%, Time: 1sec\n"
     ]
    },
    {
     "name": "stderr",
     "output_type": "stream",
     "text": [
      "Processing: 100%|██████████| 263/263 [00:10<00:00, 24.01iteration/s]\n"
     ]
    },
    {
     "name": "stdout",
     "output_type": "stream",
     "text": [
      "Loading audio: 1089-134686-0020.wav\n",
      "Generating clipped signal \n",
      "\n",
      "Clipping threshold 0.200, true SDR: 5.76 dB, Clipped samples: 11.13%, Time: 1sec\n"
     ]
    },
    {
     "name": "stderr",
     "output_type": "stream",
     "text": [
      "Processing: 100%|██████████| 263/263 [00:08<00:00, 32.01iteration/s]\n"
     ]
    },
    {
     "name": "stdout",
     "output_type": "stream",
     "text": [
      "Loading audio: 2300-131720-0024.wav\n",
      "Generating clipped signal \n",
      "\n",
      "Clipping threshold 0.200, true SDR: 6.69 dB, Clipped samples: 9.96%, Time: 1sec\n"
     ]
    },
    {
     "name": "stderr",
     "output_type": "stream",
     "text": [
      "Processing: 100%|██████████| 263/263 [00:07<00:00, 34.49iteration/s]\n"
     ]
    },
    {
     "name": "stdout",
     "output_type": "stream",
     "text": [
      "Loading audio: 4446-2275-0045.wav\n",
      "Generating clipped signal \n",
      "\n",
      "Clipping threshold 0.200, true SDR: 6.11 dB, Clipped samples: 10.62%, Time: 1sec\n"
     ]
    },
    {
     "name": "stderr",
     "output_type": "stream",
     "text": [
      "Processing: 100%|██████████| 263/263 [00:11<00:00, 23.89iteration/s]\n"
     ]
    },
    {
     "name": "stdout",
     "output_type": "stream",
     "text": [
      "Results saved to output_sound/fs_16000_threshold_0.20/results_1s.xlsx\n",
      "Directory already exists: output_sound/fs_16000_threshold_0.30\n",
      "Loading audio: 237-134493-0011.wav\n",
      "Generating clipped signal \n",
      "\n",
      "Clipping threshold 0.300, true SDR: 10.50 dB, Clipped samples: 6.71%, Time: 1sec\n"
     ]
    },
    {
     "name": "stderr",
     "output_type": "stream",
     "text": [
      "Processing:   0%|          | 0/263 [00:00<?, ?iteration/s]/data2/AAG/MTech_Project_First_Part/spade_segmentation.py:111: ComplexWarning: Casting complex values to real discards the imaginary part\n",
      "  data_rec_fin[idx] = data_rec_fin[idx] + data_rec_block * gsyn\n",
      "Processing: 100%|██████████| 263/263 [00:10<00:00, 24.40iteration/s]\n"
     ]
    },
    {
     "name": "stdout",
     "output_type": "stream",
     "text": [
      "Loading audio: 61-70970-0003.wav\n",
      "Generating clipped signal \n",
      "\n",
      "Clipping threshold 0.300, true SDR: 9.07 dB, Clipped samples: 7.72%, Time: 1sec\n"
     ]
    },
    {
     "name": "stderr",
     "output_type": "stream",
     "text": [
      "Processing: 100%|██████████| 263/263 [00:11<00:00, 22.39iteration/s]\n"
     ]
    },
    {
     "name": "stdout",
     "output_type": "stream",
     "text": [
      "Loading audio: 1089-134686-0020.wav\n",
      "Generating clipped signal \n",
      "\n",
      "Clipping threshold 0.300, true SDR: 8.55 dB, Clipped samples: 5.40%, Time: 1sec\n"
     ]
    },
    {
     "name": "stderr",
     "output_type": "stream",
     "text": [
      "Processing: 100%|██████████| 263/263 [00:08<00:00, 30.56iteration/s]\n"
     ]
    },
    {
     "name": "stdout",
     "output_type": "stream",
     "text": [
      "Loading audio: 2300-131720-0024.wav\n",
      "Generating clipped signal \n",
      "\n",
      "Clipping threshold 0.300, true SDR: 10.11 dB, Clipped samples: 5.12%, Time: 1sec\n"
     ]
    },
    {
     "name": "stderr",
     "output_type": "stream",
     "text": [
      "Processing: 100%|██████████| 263/263 [00:07<00:00, 32.89iteration/s]\n"
     ]
    },
    {
     "name": "stdout",
     "output_type": "stream",
     "text": [
      "Loading audio: 4446-2275-0045.wav\n",
      "Generating clipped signal \n",
      "\n",
      "Clipping threshold 0.300, true SDR: 9.14 dB, Clipped samples: 5.04%, Time: 1sec\n"
     ]
    },
    {
     "name": "stderr",
     "output_type": "stream",
     "text": [
      "Processing: 100%|██████████| 263/263 [00:11<00:00, 23.07iteration/s]\n"
     ]
    },
    {
     "name": "stdout",
     "output_type": "stream",
     "text": [
      "Results saved to output_sound/fs_16000_threshold_0.30/results_1s.xlsx\n",
      "Directory already exists: output_sound/fs_16000_threshold_0.10\n",
      "Loading audio: 237-134493-0011.wav\n",
      "Generating clipped signal \n",
      "\n",
      "Clipping threshold 0.100, true SDR: 3.33 dB, Clipped samples: 27.96%, Time: 1sec\n"
     ]
    },
    {
     "name": "stderr",
     "output_type": "stream",
     "text": [
      "Processing:   0%|          | 0/131 [00:00<?, ?iteration/s]/data2/AAG/MTech_Project_First_Part/spade_segmentation.py:111: ComplexWarning: Casting complex values to real discards the imaginary part\n",
      "  data_rec_fin[idx] = data_rec_fin[idx] + data_rec_block * gsyn\n",
      "Processing: 100%|██████████| 131/131 [00:12<00:00, 10.91iteration/s]\n"
     ]
    },
    {
     "name": "stdout",
     "output_type": "stream",
     "text": [
      "Loading audio: 61-70970-0003.wav\n",
      "Generating clipped signal \n",
      "\n",
      "Clipping threshold 0.100, true SDR: 2.94 dB, Clipped samples: 28.08%, Time: 1sec\n"
     ]
    },
    {
     "name": "stderr",
     "output_type": "stream",
     "text": [
      "Processing: 100%|██████████| 131/131 [00:12<00:00, 10.45iteration/s]\n"
     ]
    },
    {
     "name": "stdout",
     "output_type": "stream",
     "text": [
      "Loading audio: 1089-134686-0020.wav\n",
      "Generating clipped signal \n",
      "\n",
      "Clipping threshold 0.100, true SDR: 2.95 dB, Clipped samples: 23.89%, Time: 1sec\n"
     ]
    },
    {
     "name": "stderr",
     "output_type": "stream",
     "text": [
      "Processing: 100%|██████████| 131/131 [00:10<00:00, 12.89iteration/s]\n"
     ]
    },
    {
     "name": "stdout",
     "output_type": "stream",
     "text": [
      "Loading audio: 2300-131720-0024.wav\n",
      "Generating clipped signal \n",
      "\n",
      "Clipping threshold 0.100, true SDR: 3.33 dB, Clipped samples: 21.44%, Time: 1sec\n"
     ]
    },
    {
     "name": "stderr",
     "output_type": "stream",
     "text": [
      "Processing: 100%|██████████| 131/131 [00:09<00:00, 13.85iteration/s]\n"
     ]
    },
    {
     "name": "stdout",
     "output_type": "stream",
     "text": [
      "Loading audio: 4446-2275-0045.wav\n",
      "Generating clipped signal \n",
      "\n",
      "Clipping threshold 0.100, true SDR: 3.05 dB, Clipped samples: 20.71%, Time: 1sec\n"
     ]
    },
    {
     "name": "stderr",
     "output_type": "stream",
     "text": [
      "Processing: 100%|██████████| 131/131 [00:13<00:00,  9.93iteration/s]\n"
     ]
    },
    {
     "name": "stdout",
     "output_type": "stream",
     "text": [
      "Results saved to output_sound/fs_16000_threshold_0.10/results_1s.xlsx\n",
      "Directory already exists: output_sound/fs_16000_threshold_0.20\n",
      "Loading audio: 237-134493-0011.wav\n",
      "Generating clipped signal \n",
      "\n",
      "Clipping threshold 0.200, true SDR: 6.89 dB, Clipped samples: 15.02%, Time: 1sec\n"
     ]
    },
    {
     "name": "stderr",
     "output_type": "stream",
     "text": [
      "Processing:   0%|          | 0/131 [00:00<?, ?iteration/s]/data2/AAG/MTech_Project_First_Part/spade_segmentation.py:111: ComplexWarning: Casting complex values to real discards the imaginary part\n",
      "  data_rec_fin[idx] = data_rec_fin[idx] + data_rec_block * gsyn\n",
      "Processing: 100%|██████████| 131/131 [00:13<00:00,  9.37iteration/s]\n"
     ]
    },
    {
     "name": "stdout",
     "output_type": "stream",
     "text": [
      "Loading audio: 61-70970-0003.wav\n",
      "Generating clipped signal \n",
      "\n",
      "Clipping threshold 0.200, true SDR: 5.92 dB, Clipped samples: 14.43%, Time: 1sec\n"
     ]
    },
    {
     "name": "stderr",
     "output_type": "stream",
     "text": [
      "Processing: 100%|██████████| 131/131 [00:14<00:00,  8.78iteration/s]\n"
     ]
    },
    {
     "name": "stdout",
     "output_type": "stream",
     "text": [
      "Loading audio: 1089-134686-0020.wav\n",
      "Generating clipped signal \n",
      "\n",
      "Clipping threshold 0.200, true SDR: 5.76 dB, Clipped samples: 11.13%, Time: 1sec\n"
     ]
    },
    {
     "name": "stderr",
     "output_type": "stream",
     "text": [
      "Processing: 100%|██████████| 131/131 [00:12<00:00, 10.82iteration/s]\n"
     ]
    },
    {
     "name": "stdout",
     "output_type": "stream",
     "text": [
      "Loading audio: 2300-131720-0024.wav\n",
      "Generating clipped signal \n",
      "\n",
      "Clipping threshold 0.200, true SDR: 6.69 dB, Clipped samples: 9.96%, Time: 1sec\n"
     ]
    },
    {
     "name": "stderr",
     "output_type": "stream",
     "text": [
      "Processing: 100%|██████████| 131/131 [00:11<00:00, 11.79iteration/s]\n"
     ]
    },
    {
     "name": "stdout",
     "output_type": "stream",
     "text": [
      "Loading audio: 4446-2275-0045.wav\n",
      "Generating clipped signal \n",
      "\n",
      "Clipping threshold 0.200, true SDR: 6.11 dB, Clipped samples: 10.62%, Time: 1sec\n"
     ]
    },
    {
     "name": "stderr",
     "output_type": "stream",
     "text": [
      "Processing: 100%|██████████| 131/131 [00:15<00:00,  8.57iteration/s]\n"
     ]
    },
    {
     "name": "stdout",
     "output_type": "stream",
     "text": [
      "Results saved to output_sound/fs_16000_threshold_0.20/results_1s.xlsx\n",
      "Directory already exists: output_sound/fs_16000_threshold_0.30\n",
      "Loading audio: 237-134493-0011.wav\n",
      "Generating clipped signal \n",
      "\n",
      "Clipping threshold 0.300, true SDR: 10.50 dB, Clipped samples: 6.71%, Time: 1sec\n"
     ]
    },
    {
     "name": "stderr",
     "output_type": "stream",
     "text": [
      "Processing:   0%|          | 0/131 [00:00<?, ?iteration/s]/data2/AAG/MTech_Project_First_Part/spade_segmentation.py:111: ComplexWarning: Casting complex values to real discards the imaginary part\n",
      "  data_rec_fin[idx] = data_rec_fin[idx] + data_rec_block * gsyn\n",
      "Processing: 100%|██████████| 131/131 [00:14<00:00,  8.95iteration/s]\n"
     ]
    },
    {
     "name": "stdout",
     "output_type": "stream",
     "text": [
      "Loading audio: 61-70970-0003.wav\n",
      "Generating clipped signal \n",
      "\n",
      "Clipping threshold 0.300, true SDR: 9.07 dB, Clipped samples: 7.72%, Time: 1sec\n"
     ]
    },
    {
     "name": "stderr",
     "output_type": "stream",
     "text": [
      "Processing: 100%|██████████| 131/131 [00:15<00:00,  8.48iteration/s]\n"
     ]
    },
    {
     "name": "stdout",
     "output_type": "stream",
     "text": [
      "Loading audio: 1089-134686-0020.wav\n",
      "Generating clipped signal \n",
      "\n",
      "Clipping threshold 0.300, true SDR: 8.55 dB, Clipped samples: 5.40%, Time: 1sec\n"
     ]
    },
    {
     "name": "stderr",
     "output_type": "stream",
     "text": [
      "Processing: 100%|██████████| 131/131 [00:12<00:00, 10.60iteration/s]\n"
     ]
    },
    {
     "name": "stdout",
     "output_type": "stream",
     "text": [
      "Loading audio: 2300-131720-0024.wav\n",
      "Generating clipped signal \n",
      "\n",
      "Clipping threshold 0.300, true SDR: 10.11 dB, Clipped samples: 5.12%, Time: 1sec\n"
     ]
    },
    {
     "name": "stderr",
     "output_type": "stream",
     "text": [
      "Processing: 100%|██████████| 131/131 [00:11<00:00, 11.49iteration/s]\n"
     ]
    },
    {
     "name": "stdout",
     "output_type": "stream",
     "text": [
      "Loading audio: 4446-2275-0045.wav\n",
      "Generating clipped signal \n",
      "\n",
      "Clipping threshold 0.300, true SDR: 9.14 dB, Clipped samples: 5.04%, Time: 1sec\n"
     ]
    },
    {
     "name": "stderr",
     "output_type": "stream",
     "text": [
      "Processing: 100%|██████████| 131/131 [00:15<00:00,  8.45iteration/s]\n"
     ]
    },
    {
     "name": "stdout",
     "output_type": "stream",
     "text": [
      "Results saved to output_sound/fs_16000_threshold_0.30/results_1s.xlsx\n",
      "Saved summary to variation_study_summary.xlsx\n"
     ]
    }
   ],
   "source": [
    "import os\n",
    "import pandas as pd\n",
    "\n",
    "win_lens = [125, 250, 500, 1000]\n",
    "thresholds = [0.10, 0.20, 0.30, 0.4]\n",
    "result_table = []\n",
    "\n",
    "for win_len in win_lens:\n",
    "    win_shift = int(win_len / 4)\n",
    "    \n",
    "    for threshold in thresholds:\n",
    "        # Run the command\n",
    "        cmd = f\"\"\"\n",
    "        python process.py --audio_dir custom_sound \\\n",
    "            --output_path output_sound \\\n",
    "            --time_clip 1 \\\n",
    "            --target_fs_values 16000 \\\n",
    "            --clipping_thresholds {threshold} \\\n",
    "            --dynamic 1 \\\n",
    "            --saving 0 \\\n",
    "            --plotting 0 \\\n",
    "            --delta 300 \\\n",
    "            --win_len {win_len} \\\n",
    "            --win_shift {win_shift}\n",
    "        \"\"\"\n",
    "        os.system(cmd)\n",
    "\n",
    "        # Load the Excel file\n",
    "        folder = f\"output_sound/fs_16000_threshold_{threshold:.2f}\"\n",
    "        file_path = os.path.join(folder, \"results_1s.xlsx\")\n",
    "        \n",
    "        if os.path.exists(file_path):\n",
    "            df = pd.read_excel(file_path)\n",
    "\n",
    "            # Extract the relevant values\n",
    "            pesq_mean = df['pesq_imp_mean_array'].values[0]\n",
    "            pesq_std = df['pesq_imp_std_array'].values[0]\n",
    "            sdr_mean = df['sdr_imp_mean_array'].values[0]\n",
    "            sdr_std = df['sdr_imp_std_array'].values[0]\n",
    "\n",
    "            result_table.append({\n",
    "                'win_len': win_len,\n",
    "                'threshold': threshold,\n",
    "                'pesq_mean': pesq_mean,\n",
    "                'pesq_std': pesq_std,\n",
    "                'sdr_mean' : sdr_mean,\n",
    "                'sdr_std' : sdr_std\n",
    "            })\n",
    "        else:\n",
    "            print(f\"Missing file: {file_path}\")\n",
    "\n",
    "# Save the summary\n",
    "summary_df = pd.DataFrame(result_table)\n",
    "summary_df.to_excel(\"variation_study_summary.xlsx\", index=False)\n",
    "print(\"Saved summary to variation_study_summary.xlsx\")\n"
   ]
  }
 ],
 "metadata": {
  "kernelspec": {
   "display_name": "aagproj",
   "language": "python",
   "name": "python3"
  },
  "language_info": {
   "codemirror_mode": {
    "name": "ipython",
    "version": 3
   },
   "file_extension": ".py",
   "mimetype": "text/x-python",
   "name": "python",
   "nbconvert_exporter": "python",
   "pygments_lexer": "ipython3",
   "version": "3.9.21"
  }
 },
 "nbformat": 4,
 "nbformat_minor": 5
}
