{
 "cells": [
  {
   "cell_type": "code",
   "execution_count": null,
   "id": "6291f84e",
   "metadata": {},
   "outputs": [],
   "source": [
    "win_len = 500\n",
    "win_shift = int(win_len / 4)\n",
    "\n",
    "!python process.py --audio_dir custom_sound \\\n",
    "    --output_path output_sound \\\n",
    "    --time_clip 1 \\\n",
    "    --target_fs_values 16000 \\\n",
    "    --clipping_thresholds 0.1 \\\n",
    "    --dynamic 0 \\\n",
    "    --saving 0 \\\n",
    "    --plotting 0 \\\n",
    "    --delta 0 \\\n",
    "    --win_len {win_len} \\\n",
    "    --win_shift {win_shift}"
   ]
  },
  {
   "cell_type": "code",
   "execution_count": null,
   "id": "6a9f414c",
   "metadata": {},
   "outputs": [],
   "source": [
    "# nohup python run_in_bg.py > output_log.txt 2>&1 &\n",
    "# find /data2/AAG/MTech_Project_Second_Part/speech_data -type f -name \"*.wav\" | shuf -n 100 | xargs -I {} cp {} /data2/AAG/MTech_Project_First_Part/custom_sound/"
   ]
  },
  {
   "cell_type": "markdown",
   "id": "5665c0e6",
   "metadata": {},
   "source": [
    "# Variation study"
   ]
  },
  {
   "cell_type": "code",
   "execution_count": null,
   "id": "69ecced2",
   "metadata": {},
   "outputs": [],
   "source": [
    "# nohup python variation_study.py > study_log.txt 2>&1 &"
   ]
  }
 ],
 "metadata": {
  "kernelspec": {
   "display_name": "aagproj",
   "language": "python",
   "name": "python3"
  },
  "language_info": {
   "codemirror_mode": {
    "name": "ipython",
    "version": 3
   },
   "file_extension": ".py",
   "mimetype": "text/x-python",
   "name": "python",
   "nbconvert_exporter": "python",
   "pygments_lexer": "ipython3",
   "version": "3.9.22"
  }
 },
 "nbformat": 4,
 "nbformat_minor": 5
}
